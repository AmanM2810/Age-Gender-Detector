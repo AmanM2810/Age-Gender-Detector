{
 "cells": [
  {
   "cell_type": "markdown",
   "metadata": {},
   "source": [
    "# Model Notebook"
   ]
  },
  {
   "cell_type": "markdown",
   "metadata": {},
   "source": [
    "this is the notebook for model in age and gender detector.here,we will extract the data,train it and fir it to our model and evaluate our results and optimize the model for better results."
   ]
  },
  {
   "cell_type": "code",
   "execution_count": null,
   "metadata": {},
   "outputs": [],
   "source": [
    "import tensorflow as tf \n",
    "import cv2 \n",
    "import numpy as np\n",
    "import matplotlib.pyplot as plt\n",
    "from tensorflow.keras.layers import Dropout\n",
    "from tensorflow.keras.layers import Flatten\n",
    "from tensorflow.keras.layers import BatchNormalization\n",
    "from tensorflow.keras.layers import Dense,MaxPool2D,Conv2D,MaxPooling2D\n",
    "from tensorflow.keras.models import Model\n",
    "from tensorflow.keras.layers import Input,Activation,Add\n",
    "from tensorflow.keras.regularizers import l2\n",
    "from tensorflow.keras.optimizers import Adam,Adagrad,Adadelta,Adamax,RMSprop\n",
    "from keras.activations import relu, elu, linear, sigmoid"
   ]
  },
  {
   "cell_type": "markdown",
   "metadata": {},
   "source": [
    "### Extracting data from dataset"
   ]
  },
  {
   "cell_type": "markdown",
   "metadata": {},
   "source": [
    "#### Plotting the samples agewise"
   ]
  },
  {
   "cell_type": "code",
   "execution_count": null,
   "metadata": {},
   "outputs": [],
   "source": [
    "fldr =\"C:/Users/Aman/New folder/UTKFace\""
   ]
  },
  {
   "cell_type": "markdown",
   "metadata": {},
   "source": [
    "#### Create list of images of dataset"
   ]
  },
  {
   "cell_type": "code",
   "execution_count": null,
   "metadata": {},
   "outputs": [],
   "source": [
    "import os\n",
    "files = os.listdir(fldr)"
   ]
  },
  {
   "cell_type": "code",
   "execution_count": null,
   "metadata": {},
   "outputs": [],
   "source": [
    "ages=[]\n",
    "genders=[]\n",
    "images=[]\n",
    "\n",
    "for fle in files:\n",
    "    age=int(fle.split(\"_\")[0])\n",
    "    gender=int(fle.split(\"_\")[1])\n",
    "    total=fldr+\"/\"+fle\n",
    "    print(total)\n",
    "    image=cv2.imread(total)\n",
    "\n",
    "    image=cv2.cvtColor(image,cv2.COLOR_BGR2RGB)\n",
    "    image=cv2.resize(image,(48,48))\n",
    "    images.append(image)"
   ]
  },
  {
   "cell_type": "markdown",
   "metadata": {},
   "source": [
    "#### Create list of age and gender "
   ]
  },
  {
   "cell_type": "code",
   "execution_count": null,
   "metadata": {},
   "outputs": [],
   "source": [
    "for fle in files:\n",
    "    age=int(fle.split(\"_\")[0])\n",
    "    gender=int(fle.split(\"_\")[1])\n",
    "    ages.append(age)\n",
    "    genders.append(gender)"
   ]
  },
  {
   "cell_type": "code",
   "execution_count": null,
   "metadata": {},
   "outputs": [],
   "source": [
    "plt.imshow(images[0])"
   ]
  },
  {
   "cell_type": "code",
   "execution_count": null,
   "metadata": {},
   "outputs": [],
   "source": [
    "print(ages[0])"
   ]
  },
  {
   "cell_type": "code",
   "execution_count": null,
   "metadata": {},
   "outputs": [],
   "source": [
    "print(genders[0])"
   ]
  },
  {
   "cell_type": "code",
   "execution_count": null,
   "metadata": {},
   "outputs": [],
   "source": [
    "images_f=np.array(images)\n",
    "ages_f=np.array(ages)\n",
    "genders_f=np.array(genders)"
   ]
  },
  {
   "cell_type": "code",
   "execution_count": null,
   "metadata": {},
   "outputs": [],
   "source": [
    "np.save(fldr+\"images.npy\",images_f)\n",
    "np.save(fldr+\"ages.npy\",ages_f)\n",
    "np.save(fldr+\"genders.npy\",genders_f)"
   ]
  },
  {
   "cell_type": "markdown",
   "metadata": {},
   "source": [
    "#### Finding the number of male and female samples"
   ]
  },
  {
   "cell_type": "code",
   "execution_count": null,
   "metadata": {},
   "outputs": [],
   "source": [
    "values,counts=np.unique(genders,return_counts=True)\n",
    "print(counts)"
   ]
  },
  {
   "cell_type": "markdown",
   "metadata": {},
   "source": [
    "#### Potting the numbers of male and female samples"
   ]
  },
  {
   "cell_type": "code",
   "execution_count": null,
   "metadata": {},
   "outputs": [],
   "source": [
    "fig=plt.figure()\n",
    "ax=fig.add_axes([0,0,1,1])\n",
    "gender=[\"Male\",\"Female\"]\n",
    "values=[12391,11317]\n",
    "ax.bar(gender,values)\n",
    "plt.show()"
   ]
  },
  {
   "cell_type": "markdown",
   "metadata": {},
   "source": [
    "#### Finding the number of sample in each age"
   ]
  },
  {
   "cell_type": "code",
   "execution_count": null,
   "metadata": {},
   "outputs": [],
   "source": [
    "values,counts=np.unique(ages_f,return_counts=True)\n",
    "print(counts)"
   ]
  },
  {
   "cell_type": "markdown",
   "metadata": {},
   "source": [
    "#### Converting age counts to list "
   ]
  },
  {
   "cell_type": "code",
   "execution_count": null,
   "metadata": {},
   "outputs": [],
   "source": [
    "val=values.tolist()\n",
    "cnt=counts.tolist()\n"
   ]
  },
  {
   "cell_type": "markdown",
   "metadata": {},
   "source": [
    "#### Plotting the samples agewise"
   ]
  },
  {
   "cell_type": "code",
   "execution_count": null,
   "metadata": {},
   "outputs": [],
   "source": [
    "plt.plot(counts)\n",
    "plt.title(\"Distribution of ages\")\n",
    "plt.show()"
   ]
  },
  {
   "cell_type": "code",
   "execution_count": null,
   "metadata": {},
   "outputs": [],
   "source": [
    "labels=[]\n",
    "i=0\n",
    "while i<len(ages):\n",
    "    label=[]\n",
    "    label.append(ages[i])\n",
    "    label.append(genders[i])\n",
    "    labels.append(label)\n",
    "    i=i+1"
   ]
  },
  {
   "cell_type": "code",
   "execution_count": null,
   "metadata": {},
   "outputs": [],
   "source": [
    "images_f_2=images_f/255"
   ]
  },
  {
   "cell_type": "code",
   "execution_count": null,
   "metadata": {},
   "outputs": [],
   "source": [
    "labels_f=np.array(labels)"
   ]
  },
  {
   "cell_type": "code",
   "execution_count": null,
   "metadata": {},
   "outputs": [],
   "source": [
    "images_f_2.shape"
   ]
  },
  {
   "cell_type": "markdown",
   "metadata": {},
   "source": [
    " #### Splitting dataset into train and test"
   ]
  },
  {
   "cell_type": "code",
   "execution_count": null,
   "metadata": {},
   "outputs": [],
   "source": [
    "from sklearn.model_selection import train_test_split"
   ]
  },
  {
   "cell_type": "code",
   "execution_count": null,
   "metadata": {},
   "outputs": [],
   "source": [
    "x_train,x_test,y_train,y_test=train_test_split(images_f_2,labels_f,test_size=0.25)"
   ]
  },
  {
   "cell_type": "code",
   "execution_count": null,
   "metadata": {},
   "outputs": [],
   "source": [
    "y_train[0:5]"
   ]
  },
  {
   "cell_type": "markdown",
   "metadata": {},
   "source": [
    "#### Splitting y_train and y_test further for better understanding"
   ]
  },
  {
   "cell_type": "code",
   "execution_count": null,
   "metadata": {},
   "outputs": [],
   "source": [
    "y_train_2=[y_train[:,1],y_train[:,0]]\n",
    "y_test_2=[y_test[:,1],y_test[:,0]]"
   ]
  },
  {
   "cell_type": "code",
   "execution_count": null,
   "metadata": {},
   "outputs": [],
   "source": [
    "y_train_2[0][0:5]"
   ]
  },
  {
   "cell_type": "code",
   "execution_count": null,
   "metadata": {},
   "outputs": [],
   "source": [
    "y_train_2[1][0:5]"
   ]
  },
  {
   "cell_type": "markdown",
   "metadata": {},
   "source": [
    "#### Defining the model"
   ]
  },
  {
   "cell_type": "code",
   "execution_count": null,
   "metadata": {},
   "outputs": [],
   "source": [
    "def Convolution(input_tensor,filters):\n",
    "    x=Conv2D(filters=filters,kernel_size=(3,3),padding=\"same\",strides=(1,1),kernel_regularizer=l2(0.001))(input_tensor)\n",
    "    x=Dropout(0.1)(x)\n",
    "    x=Activation(\"relu\")(x)\n",
    "    return x"
   ]
  },
  {
   "cell_type": "code",
   "execution_count": null,
   "metadata": {},
   "outputs": [],
   "source": [
    "def model(input_shape):\n",
    "    inputs=Input((input_shape))\n",
    "    conv_1=Convolution(inputs,32)\n",
    "    maxp_1=MaxPooling2D(pool_size=(2,2))(conv_1)\n",
    "    conv_2=Convolution(maxp_1,64)\n",
    "    maxp_2=MaxPooling2D(pool_size=(2,2))(conv_2)\n",
    "    conv_3=Convolution(maxp_2,128)\n",
    "    maxp_3=MaxPooling2D(pool_size=(2,2))(conv_3)\n",
    "    conv_4=Convolution(maxp_3,256)\n",
    "    maxp_4=MaxPooling2D(pool_size=(2,2))(conv_4)\n",
    "    flatten=Flatten()(maxp_4)\n",
    "    dense_1=Dense(64,activation=\"relu\")(flatten)\n",
    "    dense_2=Dense(64,activation=\"relu\")(flatten)\n",
    "    drop_1=Dropout(0.2)(dense_1)\n",
    "    drop_2=Dropout(0.2)(dense_2)\n",
    "    output_1=Dense(1,activation='sigmoid',name=\"gender_out\")(drop_1)\n",
    "    output_2=Dense(1,activation=\"relu\",name=\"age_out\")(drop_2)\n",
    "    model=Model(inputs=[inputs],outputs=[output_1,output_2])\n",
    "    model.compile(loss=[\"binary_crossentropy\",\"mae\"],optimizer=\"Adam\",metrics=[[\"accuracy\"],[\"accuracy\"]])\n",
    "    return model\n"
   ]
  },
  {
   "cell_type": "code",
   "execution_count": null,
   "metadata": {},
   "outputs": [],
   "source": [
    "Model = model((48,48,3))"
   ]
  },
  {
   "cell_type": "code",
   "execution_count": null,
   "metadata": {},
   "outputs": [],
   "source": [
    "Model.summary()"
   ]
  },
  {
   "cell_type": "code",
   "execution_count": null,
   "metadata": {},
   "outputs": [],
   "source": [
    "from tensorflow.keras.callbacks import ModelCheckpoint"
   ]
  },
  {
   "cell_type": "code",
   "execution_count": null,
   "metadata": {},
   "outputs": [],
   "source": [
    "fle_s=\"Age_Gender_Detector.weights.keras\"\n",
    "cheakpoint=ModelCheckpoint(fle_s,monitor=\"val_loss\",verbose=1,save_best_only=True,save_weights_only=False,mode=\"auto\",save_freq=\"epoch\")\n",
    "Early_stop=tf.keras.callbacks.EarlyStopping(patience=75,monitor=\"val_loss\",restore_best_weights=True)\n",
    "callback_list=[cheakpoint,Early_stop]\n"
   ]
  },
  {
   "cell_type": "code",
   "execution_count": null,
   "metadata": {},
   "outputs": [],
   "source": [
    "History=Model.fit(x_train,y_train_2,batch_size=64,validation_data=(x_test,y_test_2),epochs=250,callbacks=callback_list)"
   ]
  },
  {
   "cell_type": "markdown",
   "metadata": {},
   "source": [
    "#### Model Evaluation"
   ]
  },
  {
   "cell_type": "code",
   "execution_count": null,
   "metadata": {},
   "outputs": [],
   "source": [
    "Model.evaluate(x_test,y_test_2)"
   ]
  },
  {
   "cell_type": "code",
   "execution_count": null,
   "metadata": {},
   "outputs": [],
   "source": [
    "pred=Model.predict(x_test)"
   ]
  },
  {
   "cell_type": "code",
   "execution_count": null,
   "metadata": {},
   "outputs": [],
   "source": [
    "pred[1]"
   ]
  },
  {
   "cell_type": "markdown",
   "metadata": {},
   "source": [
    "#### Plotting Loss"
   ]
  },
  {
   "cell_type": "code",
   "execution_count": null,
   "metadata": {},
   "outputs": [],
   "source": [
    "plt.plot(History.history[\"loss\"])\n",
    "plt.plot(History.history[\"val_loss\"])\n",
    "plt.title(\"Model loss\")\n",
    "plt.xlabel=(\"Epoch\")\n",
    "plt.ylabel=(\"Loss\")\n",
    "plt.legend([\"Train\",\"Validation\"],loc=\"upper left\")\n",
    "plt.subplots_adjust(top=1.0,bottom=0.0,right=0.95,left=0,hspace=0.25,wspace=0.35)"
   ]
  },
  {
   "cell_type": "markdown",
   "metadata": {},
   "source": [
    "#### Plotting Gender Accuracy"
   ]
  },
  {
   "cell_type": "code",
   "execution_count": null,
   "metadata": {},
   "outputs": [],
   "source": [
    "plt.plot(History.history[\"gender_out_accuracy\"])\n",
    "plt.plot(History.history[\"val_gender_out_accuracy\"])\n",
    "plt.title(\"Model accuracy\")\n",
    "plt.legend([\"Train\",\"Validation\"],loc=\"upper left\")\n",
    "plt.subplots_adjust(top=1.0,bottom=0.0,right=0.95,left=0,hspace=0.25,wspace=0.35)\n"
   ]
  },
  {
   "cell_type": "markdown",
   "metadata": {},
   "source": [
    "#### Plotting Pridicted and Actual age"
   ]
  },
  {
   "cell_type": "code",
   "execution_count": null,
   "metadata": {},
   "outputs": [],
   "source": [
    "fig,ax=plt.subplots()\n",
    "ax.scatter(y_test_2[1],pred[1])\n",
    "ax.plot([y_test_2[1].min(),y_test_2[1].max()],[y_test_2[1].min(),y_test_2[1].max()],\"k--\",lw=4)\n",
    "ax.set_xlabel(\"Actual age\")\n",
    "ax.set_ylabel(\"Predicted age\")\n",
    "plt.show()"
   ]
  },
  {
   "cell_type": "markdown",
   "metadata": {},
   "source": [
    "#### Making Report of the Model(Gender Only)"
   ]
  },
  {
   "cell_type": "code",
   "execution_count": null,
   "metadata": {},
   "outputs": [],
   "source": [
    "i=0\n",
    "pred_l=[]\n",
    "while(i<len(pred[0])):\n",
    "    pred_l.append(int(np.round(pred[0][i])))\n",
    "    i=i+1"
   ]
  },
  {
   "cell_type": "code",
   "execution_count": null,
   "metadata": {},
   "outputs": [],
   "source": [
    "from sklearn.metrics import confusion_matrix\n",
    "from sklearn.metrics import classification_report"
   ]
  },
  {
   "cell_type": "code",
   "execution_count": null,
   "metadata": {},
   "outputs": [],
   "source": [
    "report=classification_report(y_test_2[0],pred_l)"
   ]
  },
  {
   "cell_type": "code",
   "execution_count": null,
   "metadata": {},
   "outputs": [],
   "source": [
    "print(report)"
   ]
  },
  {
   "cell_type": "code",
   "execution_count": null,
   "metadata": {},
   "outputs": [],
   "source": [
    "result=confusion_matrix(y_test_2[0],pred_l)"
   ]
  },
  {
   "cell_type": "code",
   "execution_count": null,
   "metadata": {},
   "outputs": [],
   "source": [
    "import seaborn as sns"
   ]
  },
  {
   "cell_type": "code",
   "execution_count": null,
   "metadata": {},
   "outputs": [],
   "source": [
    "sns.heatmap(result,annot=True,cmap=\"Spectral\")"
   ]
  },
  {
   "cell_type": "markdown",
   "metadata": {},
   "source": [
    "#### Testing our Images Ourselves"
   ]
  },
  {
   "cell_type": "code",
   "execution_count": null,
   "metadata": {},
   "outputs": [],
   "source": [
    "def test_image(ind,images_f,images_f_2,Model):\n",
    "    plt.imshow(images_f[ind])\n",
    "    image_test=images_f_2[ind]\n",
    "    pred_l=Model.predict(np.array([image_test]))\n",
    "    gender_f=[\"Male\",\"Female\"]\n",
    "    age=int(np.round(pred_l[1][0]))\n",
    "    gender=int(np.round(pred_l[0][0]))\n",
    "    print(\"Predicted age : \"+ str(age))\n",
    "    print(\"Predicted gender : \"+ gender_f[gender])"
   ]
  },
  {
   "cell_type": "code",
   "execution_count": null,
   "metadata": {},
   "outputs": [],
   "source": [
    "test_image(4,images_f,images_f_2,Model)"
   ]
  },
  {
   "cell_type": "code",
   "execution_count": null,
   "metadata": {},
   "outputs": [],
   "source": [
    "test_image(23,images_f,images_f_2,Model)"
   ]
  },
  {
   "cell_type": "code",
   "execution_count": null,
   "metadata": {},
   "outputs": [],
   "source": [
    "test_image(168,images_f,images_f,Model)"
   ]
  },
  {
   "cell_type": "code",
   "execution_count": null,
   "metadata": {},
   "outputs": [],
   "source": [
    "test_image(888,images_f,images_f_2,Model)"
   ]
  },
  {
   "cell_type": "code",
   "execution_count": null,
   "metadata": {},
   "outputs": [],
   "source": [
    "test_image(1288,images_f,images_f_2,Model)"
   ]
  }
 ],
 "metadata": {
  "kernelspec": {
   "display_name": "Python 3",
   "language": "python",
   "name": "python3"
  },
  "language_info": {
   "codemirror_mode": {
    "name": "ipython",
    "version": 3
   },
   "file_extension": ".py",
   "mimetype": "text/x-python",
   "name": "python",
   "nbconvert_exporter": "python",
   "pygments_lexer": "ipython3",
   "version": "3.12.4"
  }
 },
 "nbformat": 4,
 "nbformat_minor": 2
}
